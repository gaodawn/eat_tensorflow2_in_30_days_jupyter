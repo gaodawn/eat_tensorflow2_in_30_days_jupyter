{
 "cells": [
  {
   "cell_type": "markdown",
   "metadata": {},
   "source": [
    "## 6-2、训练模型的三种方法\n",
    "模型的训练主要有内置fit方法，内置train_on_batch方法，自定义训练循环\n",
    "注：fit_generator方法在tf.keras中不推荐使用，其功能已经被fit包含"
   ]
  },
  {
   "cell_type": "code",
   "execution_count": 1,
   "metadata": {},
   "outputs": [],
   "source": [
    "import numpy as np\n",
    "import pandas as pd\n",
    "import tensorflow as tf\n",
    "from tensorflow.keras import *\n",
    "\n",
    "#打印时间分割线\n",
    "@tf.function\n",
    "def printbar():\n",
    "    today_ts = tf.timestamp()%(24*60*60)\n",
    "\n",
    "    hour = tf.cast(today_ts//3600+8,tf.int32)%tf.constant(24)\n",
    "    minite = tf.cast((today_ts%3600)//60,tf.int32)\n",
    "    second = tf.cast(tf.floor(today_ts%60),tf.int32)\n",
    "    \n",
    "    def timeformat(m):\n",
    "        if tf.strings.length(tf.strings.format(\"{}\",m))==1:\n",
    "            return(tf.strings.format(\"0{}\",m))\n",
    "        else:\n",
    "            return(tf.strings.format(\"{}\",m))\n",
    "    \n",
    "    timestring = tf.strings.join([timeformat(hour),timeformat(minite),\n",
    "                timeformat(second)],separator = \":\")\n",
    "    tf.print(\"==========\"*8+timestring)"
   ]
  },
  {
   "cell_type": "code",
   "execution_count": 5,
   "metadata": {},
   "outputs": [],
   "source": [
    "MAX_LEN = 300\n",
    "BATCH_SIZE = 32\n",
    "(x_train,y_train),(x_test,y_test) = datasets.reuters.load_data()\n",
    "x_train = preprocessing.sequence.pad_sequences(x_train,maxlen=MAX_LEN)\n",
    "x_test = preprocessing.sequence.pad_sequences(x_test,maxlen= MAX_LEN)\n",
    "\n",
    "MAX_WORDS = x_train.max()+1\n",
    "CAT_NUM = y_train.max()+1\n",
    "\n",
    "# ds_train = tf.data.Dataset.from_tensor_slices((x_train,y_train)).shuffle(buffer_size==1000).batch(BATCH_SIZECH_SIZE).prefetch(tf.data.experimental.AUTOTUNE).cache()\n",
    "ds_train = tf.data.Dataset.from_tensor_slices((x_train,y_train)) \\\n",
    "          .shuffle(buffer_size = 1000).batch(BATCH_SIZE) \\\n",
    "          .prefetch(tf.data.experimental.AUTOTUNE).cache()\n",
    "ds_test = tf.data.Dataset.from_tensor_slices((x_test,y_test)) \\\n",
    "          .shuffle(buffer_size = 1000).batch(BATCH_SIZE) \\\n",
    "          .prefetch(tf.data.experimental.AUTOTUNE).cache()"
   ]
  },
  {
   "cell_type": "markdown",
   "metadata": {},
   "source": [
    "### 一、内置fit方法\n",
    "该方法功能非常强大，支持对numpy array，tf.array.Dataset以及Python generator数据进行训练。\n",
    "并且可以通过设置回调函数实现对训练过程的复杂控制逻辑"
   ]
  },
  {
   "cell_type": "code",
   "execution_count": 6,
   "metadata": {},
   "outputs": [
    {
     "name": "stdout",
     "output_type": "stream",
     "text": [
      "Model: \"sequential\"\n",
      "_________________________________________________________________\n",
      "Layer (type)                 Output Shape              Param #   \n",
      "=================================================================\n",
      "embedding (Embedding)        (None, 300, 7)            216874    \n",
      "_________________________________________________________________\n",
      "conv1d (Conv1D)              (None, 296, 64)           2304      \n",
      "_________________________________________________________________\n",
      "max_pooling1d (MaxPooling1D) (None, 148, 64)           0         \n",
      "_________________________________________________________________\n",
      "conv1d_1 (Conv1D)            (None, 146, 32)           6176      \n",
      "_________________________________________________________________\n",
      "max_pooling1d_1 (MaxPooling1 (None, 73, 32)            0         \n",
      "_________________________________________________________________\n",
      "flatten (Flatten)            (None, 2336)              0         \n",
      "_________________________________________________________________\n",
      "dense (Dense)                (None, 46)                107502    \n",
      "=================================================================\n",
      "Total params: 332,856\n",
      "Trainable params: 332,856\n",
      "Non-trainable params: 0\n",
      "_________________________________________________________________\n"
     ]
    }
   ],
   "source": [
    "tf.keras.backend.clear_session()\n",
    "def create_model():\n",
    "    \n",
    "    model = models.Sequential()\n",
    "    model.add(layers.Embedding(MAX_WORDS,7,input_length=MAX_LEN))\n",
    "    model.add(layers.Conv1D(filters = 64,kernel_size = 5,activation = \"relu\"))\n",
    "    model.add(layers.MaxPool1D(2))\n",
    "    model.add(layers.Conv1D(filters = 32,kernel_size = 3,activation = \"relu\"))\n",
    "    model.add(layers.MaxPool1D(2))\n",
    "    model.add(layers.Flatten())\n",
    "    model.add(layers.Dense(CAT_NUM,activation = \"softmax\"))\n",
    "    return(model)\n",
    "\n",
    "def compile_model(model):\n",
    "    model.compile(optimizer=optimizers.Nadam(),\n",
    "                loss=losses.SparseCategoricalCrossentropy(),\n",
    "                metrics=[metrics.SparseCategoricalAccuracy(),metrics.SparseTopKCategoricalAccuracy(5)]) \n",
    "    return(model)\n",
    " \n",
    "model = create_model()\n",
    "model.summary()\n",
    "model = compile_model(model)"
   ]
  },
  {
   "cell_type": "code",
   "execution_count": 7,
   "metadata": {},
   "outputs": [
    {
     "name": "stdout",
     "output_type": "stream",
     "text": [
      "Train for 281 steps, validate for 71 steps\n",
      "Epoch 1/10\n",
      "281/281 [==============================] - 4s 16ms/step - loss: 2.0368 - sparse_categorical_accuracy: 0.4630 - sparse_top_k_categorical_accuracy: 0.7448 - val_loss: 1.7219 - val_sparse_categorical_accuracy: 0.5628 - val_sparse_top_k_categorical_accuracy: 0.7533\n",
      "Epoch 2/10\n",
      "281/281 [==============================] - 3s 11ms/step - loss: 1.5140 - sparse_categorical_accuracy: 0.6094 - sparse_top_k_categorical_accuracy: 0.7900 - val_loss: 1.5269 - val_sparse_categorical_accuracy: 0.6171 - val_sparse_top_k_categorical_accuracy: 0.7903\n",
      "Epoch 3/10\n",
      "281/281 [==============================] - 3s 10ms/step - loss: 1.2028 - sparse_categorical_accuracy: 0.6899 - sparse_top_k_categorical_accuracy: 0.8545 - val_loss: 1.4754 - val_sparse_categorical_accuracy: 0.6492 - val_sparse_top_k_categorical_accuracy: 0.8197\n",
      "Epoch 4/10\n",
      "281/281 [==============================] - 3s 10ms/step - loss: 0.9087 - sparse_categorical_accuracy: 0.7681 - sparse_top_k_categorical_accuracy: 0.9130 - val_loss: 1.5862 - val_sparse_categorical_accuracy: 0.6527 - val_sparse_top_k_categorical_accuracy: 0.8228\n",
      "Epoch 5/10\n",
      "281/281 [==============================] - 3s 11ms/step - loss: 0.6615 - sparse_categorical_accuracy: 0.8320 - sparse_top_k_categorical_accuracy: 0.9517 - val_loss: 1.7737 - val_sparse_categorical_accuracy: 0.6496 - val_sparse_top_k_categorical_accuracy: 0.8210\n",
      "Epoch 6/10\n",
      "281/281 [==============================] - 3s 10ms/step - loss: 0.4900 - sparse_categorical_accuracy: 0.8810 - sparse_top_k_categorical_accuracy: 0.9716 - val_loss: 2.0062 - val_sparse_categorical_accuracy: 0.6456 - val_sparse_top_k_categorical_accuracy: 0.8157\n",
      "Epoch 7/10\n",
      "281/281 [==============================] - 3s 10ms/step - loss: 0.3857 - sparse_categorical_accuracy: 0.9104 - sparse_top_k_categorical_accuracy: 0.9834 - val_loss: 2.1750 - val_sparse_categorical_accuracy: 0.6407 - val_sparse_top_k_categorical_accuracy: 0.8152\n",
      "Epoch 8/10\n",
      "281/281 [==============================] - 3s 10ms/step - loss: 0.3213 - sparse_categorical_accuracy: 0.9261 - sparse_top_k_categorical_accuracy: 0.9889 - val_loss: 2.3281 - val_sparse_categorical_accuracy: 0.6349 - val_sparse_top_k_categorical_accuracy: 0.8139\n",
      "Epoch 9/10\n",
      "281/281 [==============================] - 3s 10ms/step - loss: 0.2824 - sparse_categorical_accuracy: 0.9346 - sparse_top_k_categorical_accuracy: 0.9915 - val_loss: 2.4526 - val_sparse_categorical_accuracy: 0.6362 - val_sparse_top_k_categorical_accuracy: 0.8108\n",
      "Epoch 10/10\n",
      "281/281 [==============================] - 3s 10ms/step - loss: 0.2527 - sparse_categorical_accuracy: 0.9400 - sparse_top_k_categorical_accuracy: 0.9931 - val_loss: 2.5586 - val_sparse_categorical_accuracy: 0.6358 - val_sparse_top_k_categorical_accuracy: 0.8117\n"
     ]
    }
   ],
   "source": [
    "history = model.fit(ds_train,validation_data = ds_test,epochs=10)"
   ]
  },
  {
   "cell_type": "code",
   "execution_count": 11,
   "metadata": {},
   "outputs": [],
   "source": [
    "def train_model(model,ds_train,ds_valid,epoches):\n",
    "    for epoch in tf.range(1,epoches+1):\n",
    "        model.reset_metrics()\n",
    "        \n",
    "        if epoch == 5:\n",
    "            model.optimizer.lr.assign(model.optimizer.lr/2.0)\n",
    "        for x,y in ds_train:\n",
    "            train_result = model.train_on_batch(x,y)\n",
    "        for x,y in ds_valid:\n",
    "            valid_result = model.test_on_batch(x,y,reset_metrics=False)\n",
    "        if epoch%1==0:\n",
    "            printbar()\n",
    "            tf.print(\"epoch = \",epoch)\n",
    "            print(\"train:\",dict(zip(model.metrics_names,train_result)))\n",
    "            print(\"valid:\",dict(zip(model.metrics_names,valid_result)))\n",
    "            print(\"\")"
   ]
  },
  {
   "cell_type": "code",
   "execution_count": 12,
   "metadata": {},
   "outputs": [
    {
     "name": "stdout",
     "output_type": "stream",
     "text": [
      "================================================================================11:37:10\n",
      "epoch =  1\n",
      "train: {'loss': 0.036054526, 'sparse_categorical_accuracy': 1.0, 'sparse_top_k_categorical_accuracy': 1.0}\n",
      "valid: {'loss': 2.563372, 'sparse_categorical_accuracy': 0.63579696, 'sparse_top_k_categorical_accuracy': 0.8103295}\n",
      "\n",
      "================================================================================11:37:13\n",
      "epoch =  2\n",
      "train: {'loss': 0.026406916, 'sparse_categorical_accuracy': 1.0, 'sparse_top_k_categorical_accuracy': 1.0}\n",
      "valid: {'loss': 2.6081796, 'sparse_categorical_accuracy': 0.6326803, 'sparse_top_k_categorical_accuracy': 0.8116652}\n",
      "\n",
      "================================================================================11:37:16\n",
      "epoch =  3\n",
      "train: {'loss': 0.02145644, 'sparse_categorical_accuracy': 1.0, 'sparse_top_k_categorical_accuracy': 1.0}\n",
      "valid: {'loss': 2.591668, 'sparse_categorical_accuracy': 0.6353517, 'sparse_top_k_categorical_accuracy': 0.8134461}\n",
      "\n",
      "================================================================================11:37:19\n",
      "epoch =  4\n",
      "train: {'loss': 0.02030645, 'sparse_categorical_accuracy': 1.0, 'sparse_top_k_categorical_accuracy': 1.0}\n",
      "valid: {'loss': 2.5907695, 'sparse_categorical_accuracy': 0.6313446, 'sparse_top_k_categorical_accuracy': 0.81478184}\n",
      "\n",
      "================================================================================11:37:22\n",
      "epoch =  5\n",
      "train: {'loss': 0.008047451, 'sparse_categorical_accuracy': 1.0, 'sparse_top_k_categorical_accuracy': 1.0}\n",
      "valid: {'loss': 2.5817378, 'sparse_categorical_accuracy': 0.6375779, 'sparse_top_k_categorical_accuracy': 0.8156723}\n",
      "\n",
      "================================================================================11:37:25\n",
      "epoch =  6\n",
      "train: {'loss': 0.008049291, 'sparse_categorical_accuracy': 1.0, 'sparse_top_k_categorical_accuracy': 1.0}\n",
      "valid: {'loss': 2.5557778, 'sparse_categorical_accuracy': 0.63579696, 'sparse_top_k_categorical_accuracy': 0.8116652}\n",
      "\n",
      "================================================================================11:37:28\n",
      "epoch =  7\n",
      "train: {'loss': 0.007704602, 'sparse_categorical_accuracy': 1.0, 'sparse_top_k_categorical_accuracy': 1.0}\n",
      "valid: {'loss': 2.5767562, 'sparse_categorical_accuracy': 0.63579696, 'sparse_top_k_categorical_accuracy': 0.8107747}\n",
      "\n",
      "================================================================================11:37:31\n",
      "epoch =  8\n",
      "train: {'loss': 0.008183371, 'sparse_categorical_accuracy': 1.0, 'sparse_top_k_categorical_accuracy': 1.0}\n",
      "valid: {'loss': 2.6105301, 'sparse_categorical_accuracy': 0.6371327, 'sparse_top_k_categorical_accuracy': 0.81121993}\n",
      "\n",
      "================================================================================11:37:35\n",
      "epoch =  9\n",
      "train: {'loss': 0.008172535, 'sparse_categorical_accuracy': 1.0, 'sparse_top_k_categorical_accuracy': 1.0}\n",
      "valid: {'loss': 2.6524284, 'sparse_categorical_accuracy': 0.63802314, 'sparse_top_k_categorical_accuracy': 0.8107747}\n",
      "\n",
      "================================================================================11:37:38\n",
      "epoch =  10\n",
      "train: {'loss': 0.008772537, 'sparse_categorical_accuracy': 1.0, 'sparse_top_k_categorical_accuracy': 1.0}\n",
      "valid: {'loss': 2.7022016, 'sparse_categorical_accuracy': 0.63401604, 'sparse_top_k_categorical_accuracy': 0.8103295}\n",
      "\n"
     ]
    }
   ],
   "source": [
    "train_model(model,ds_train,ds_test,10)"
   ]
  },
  {
   "cell_type": "code",
   "execution_count": null,
   "metadata": {},
   "outputs": [],
   "source": [
    "optimizer = optimizer.Adam()\n",
    "loss_func = losses.SparseCategoricalCrossentropy()\n",
    "\n",
    "train_loss = metrics.Mean(name='train_loss')\n",
    "train_metric = metrics.SparseCategoricalAccuracy(name=\"train_accuarcy\")\n",
    "\n",
    "valid_loss = metrics.Mean(name='valid_loss')\n",
    "valid_metric = metrics.SparseCategoricalAccuracy(name='valid_accuracy')\n",
    "\n",
    "@tf.function\n",
    "def train_step(model,features,labels):\n",
    "    with tf.GradientTape() as tape:\n",
    "        predictions = model(features,training=True)\n",
    "        loss = loss_func(labels,predictions)\n",
    "    gradients = tape.gradient(loss,model.trainable_variables)\n",
    "    optimizer.apply_gradients(zip(gradients,model.trainable_variables))\n",
    "    \n",
    "    train_loss.update_state(loss)\n",
    "    train_metric.update_state(labels,predictions)\n"
   ]
  }
 ],
 "metadata": {
  "kernelspec": {
   "display_name": "tf2",
   "language": "python",
   "name": "tf2"
  },
  "language_info": {
   "codemirror_mode": {
    "name": "ipython",
    "version": 3
   },
   "file_extension": ".py",
   "mimetype": "text/x-python",
   "name": "python",
   "nbconvert_exporter": "python",
   "pygments_lexer": "ipython3",
   "version": "3.6.10"
  }
 },
 "nbformat": 4,
 "nbformat_minor": 2
}
