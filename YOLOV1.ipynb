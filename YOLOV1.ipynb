{
 "cells": [
  {
   "cell_type": "code",
   "execution_count": 2,
   "metadata": {},
   "outputs": [],
   "source": [
    "from tensorflow.keras.preprocessing.image import load_img,img_to_array\n",
    "from tensorflow.keras.layers import *\n",
    "from tensorflow.keras.regularizers import l2\n",
    "from tqdm import tqdm\n",
    "import tensorflow as tf\n",
    "from glob import glob\n",
    "import numpy as np\n",
    "import json\n",
    "import os"
   ]
  },
  {
   "cell_type": "code",
   "execution_count": 3,
   "metadata": {},
   "outputs": [
    {
     "name": "stdout",
     "output_type": "stream",
     "text": [
      "Tensorflow: 2.1.0\n"
     ]
    }
   ],
   "source": [
    "os.environ['TF_CPP_MIN_LOG_LEVEL'] = '3'\n",
    "print(\"Tensorflow:\",tf.__version__)"
   ]
  },
  {
   "cell_type": "code",
   "execution_count": 4,
   "metadata": {},
   "outputs": [],
   "source": [
    "#输入大小是448*448\n",
    "H,W = 448,448\n",
    "grid_size  = [H//64,W//64]\n",
    "#每个网格预测9个bbox\n",
    "nboxes = 9\n",
    "classes = ['bike', 'bus', 'car', 'motor', 'person', 'rider',\n",
    "           'traffic light', 'traffic sign', 'train', 'truck']\n",
    "class_map = {k:idx for idx,k in enumerate(classes)}\n",
    "nclasses = len(classes)\n",
    "#输出向量的形状，列表相加是[7,7]+[30] = [7,7,30]\n",
    "output_shape = grid_size + [nboxes*5+nclasses]"
   ]
  },
  {
   "cell_type": "code",
   "execution_count": null,
   "metadata": {},
   "outputs": [],
   "source": [
    "def compute_iou(boxes1,boxes2):\n",
    "    '''\n",
    "    输入参数：bbox1，bbox2，形如[x,y,w,h],两个待计算IOU的bbox\n",
    "    输出参数: 两个bbox的iou\n",
    "    '''\n",
    "    boxes1_t = tf.stack([boxes1[..., 0] - boxes1[..., 2] / 2.0, #最左上点的x坐标\n",
    "                         boxes1[..., 1] - boxes1[..., 3] / 2.0, #最左上点的y坐标\n",
    "                         boxes1[..., 0] + boxes1[..., 2] / 2.0, #最右下点的x坐标\n",
    "                         boxes1[..., 1] + boxes1[..., 3] / 2.0],#最右下点的y坐标\n",
    "                        axis=-1)\n",
    "\n",
    "    boxes2_t = tf.stack([boxes2[..., 0] - boxes2[..., 2] / 2.0,\n",
    "                         boxes2[..., 1] - boxes2[..., 3] / 2.0,\n",
    "                         boxes2[..., 0] + boxes2[..., 2] / 2.0,\n",
    "                         boxes2[..., 1] + boxes2[..., 3] / 2.0],\n",
    "                        axis=-1)\n",
    "    #lu为x坐标中更偏左上的那一个\n",
    "    lu = tf.maximum(boxes1_t[...,:2],boxes2_t[...,:2])\n",
    "    #rd为y坐标中更偏右下的那一个\n",
    "    rd = tf.minimum(boxes1_t[...,2:],boxes2_t[...,2:])\n",
    "    \n",
    "    intersection = tf.maximum(0.0,rd-lu)\n",
    "    #计算交叉部分的面积\n",
    "    inter_square = intersection[...,0]*intersection[...,1]\n",
    "    \n",
    "    square1 = boxes1[...,2]*boxes1[...,3]\n",
    "    square2 = boxes2[...,2]*boxes2[...,3]\n",
    "    \n",
    "    union_square = tf.maximum(square1+square2-inter_square,1e-10)\n",
    "    return tf.clip_by_value(inter_square / union_square,0.0,1.0)"
   ]
  }
 ],
 "metadata": {
  "kernelspec": {
   "display_name": "tf2",
   "language": "python",
   "name": "tf2"
  },
  "language_info": {
   "codemirror_mode": {
    "name": "ipython",
    "version": 3
   },
   "file_extension": ".py",
   "mimetype": "text/x-python",
   "name": "python",
   "nbconvert_exporter": "python",
   "pygments_lexer": "ipython3",
   "version": "3.6.10"
  }
 },
 "nbformat": 4,
 "nbformat_minor": 2
}
