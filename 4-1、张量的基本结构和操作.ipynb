{
 "cells": [
  {
   "cell_type": "markdown",
   "metadata": {},
   "source": [
    "## 4-1、张量的结构操作\n",
    "张量的操作主要包括张量的结构操作和张量的数学运算。\n",
    "\n",
    "张量结构操作诸如：张量创建，索引切片，维度变换，合并分割。\n",
    "\n",
    "张量数学运算主要有：标量运算，向量运算，矩阵运算。另外我们会介绍张量运算的广播机制。\n",
    "\n",
    "本篇我们介绍张量的结构操作。\n",
    "\n",
    "## 一、创建张量\n",
    "张量创建的许多方法和numpy中创建array的方法很像。"
   ]
  },
  {
   "cell_type": "code",
   "execution_count": 1,
   "metadata": {},
   "outputs": [],
   "source": [
    "import tensorflow as tf\n",
    "import numpy as np"
   ]
  },
  {
   "cell_type": "code",
   "execution_count": 2,
   "metadata": {},
   "outputs": [
    {
     "name": "stdout",
     "output_type": "stream",
     "text": [
      "[1 2 3]\n"
     ]
    }
   ],
   "source": [
    "a = tf.constant([1,2,3],dtype=tf.float32)\n",
    "tf.print(a)"
   ]
  },
  {
   "cell_type": "code",
   "execution_count": 3,
   "metadata": {},
   "outputs": [
    {
     "name": "stdout",
     "output_type": "stream",
     "text": [
      "[1 3 5 7 9]\n"
     ]
    }
   ],
   "source": [
    "b = tf.range(1,10,delta = 2)\n",
    "tf.print(b)"
   ]
  },
  {
   "cell_type": "code",
   "execution_count": 4,
   "metadata": {},
   "outputs": [
    {
     "name": "stdout",
     "output_type": "stream",
     "text": [
      "[0 0.0634343475 0.126868695 ... 6.15313148 6.21656609 6.28]\n"
     ]
    }
   ],
   "source": [
    "c = tf.linspace(0.0,2*3.14,100)\n",
    "tf.print(c)"
   ]
  },
  {
   "cell_type": "code",
   "execution_count": 5,
   "metadata": {},
   "outputs": [
    {
     "name": "stdout",
     "output_type": "stream",
     "text": [
      "[[0 0 0]\n",
      " [0 0 0]\n",
      " [0 0 0]]\n"
     ]
    }
   ],
   "source": [
    "d = tf.zeros([3,3])\n",
    "tf.print(d)"
   ]
  },
  {
   "cell_type": "code",
   "execution_count": 6,
   "metadata": {},
   "outputs": [
    {
     "name": "stdout",
     "output_type": "stream",
     "text": [
      "[[1 1 1]\n",
      " [1 1 1]\n",
      " [1 1 1]]\n",
      "[[0 0 0]\n",
      " [0 0 0]\n",
      " [0 0 0]]\n"
     ]
    }
   ],
   "source": [
    "a = tf.ones([3,3])\n",
    "b = tf.zeros_like(a, dtype = tf.float32)\n",
    "tf.print(a)\n",
    "tf.print(b)"
   ]
  },
  {
   "cell_type": "code",
   "execution_count": 7,
   "metadata": {},
   "outputs": [
    {
     "name": "stdout",
     "output_type": "stream",
     "text": [
      "[[5 5]\n",
      " [5 5]\n",
      " [5 5]]\n"
     ]
    }
   ],
   "source": [
    "b = tf.fill([3,2],5)\n",
    "tf.print(b)"
   ]
  },
  {
   "cell_type": "code",
   "execution_count": 8,
   "metadata": {},
   "outputs": [
    {
     "name": "stdout",
     "output_type": "stream",
     "text": [
      "[1.65130854 9.01481247 6.30974197 4.34546089 2.9193902]\n"
     ]
    }
   ],
   "source": [
    "#均匀随机分布\n",
    "tf.random.set_seed(1.0)\n",
    "a = tf.random.uniform([5],minval=0,maxval=10)\n",
    "tf.print(a)"
   ]
  },
  {
   "cell_type": "code",
   "execution_count": 10,
   "metadata": {},
   "outputs": [
    {
     "name": "stdout",
     "output_type": "stream",
     "text": [
      "[[-0.457012236 -0.406867266 0.728577733]\n",
      " [-0.892977774 0.312611461 0.994292498]\n",
      " [-1.7842623 -0.522005141 0.98080045]]\n"
     ]
    }
   ],
   "source": [
    "#正太分布随机\n",
    "b = tf.random.normal([3,3],mean=0.0,stddev=1.0)\n",
    "tf.print(b)"
   ]
  },
  {
   "cell_type": "code",
   "execution_count": 11,
   "metadata": {},
   "outputs": [
    {
     "name": "stdout",
     "output_type": "stream",
     "text": [
      "[[1.6940167 0.119693168 -1.15846 0.172604024 1.25393271]\n",
      " [-0.145777747 -0.167923927 0.242540851 -0.738488793 -0.0219556261]\n",
      " [0.847492576 0.101899959 0.628251433 0.510985792 0.676944315]\n",
      " [0.455615073 -0.928990066 0.778658688 0.383007079 -0.382015228]\n",
      " [1.66602075 0.938058078 -0.800548375 1.57435715 1.33503103]]\n"
     ]
    }
   ],
   "source": [
    "c = tf.random.truncated_normal((5,5),mean=0.0,stddev=1.0,dtype=tf.float32)\n",
    "tf.print(c)"
   ]
  },
  {
   "cell_type": "code",
   "execution_count": 12,
   "metadata": {},
   "outputs": [
    {
     "name": "stdout",
     "output_type": "stream",
     "text": [
      "[[1 0 0]\n",
      " [0 1 0]\n",
      " [0 0 1]]\n",
      " \n",
      "[[1 0 0]\n",
      " [0 2 0]\n",
      " [0 0 3]]\n"
     ]
    }
   ],
   "source": [
    "I = tf.eye(3,3)\n",
    "tf.print(I)\n",
    "tf.print(\" \")\n",
    "t = tf.linalg.diag([1,2,3])\n",
    "tf.print(t)"
   ]
  },
  {
   "cell_type": "markdown",
   "metadata": {},
   "source": [
    "### 二、索引切片\n",
    "张量的索引切片方式和numpy几乎是一样的。切片时支持缺省参数和省略号。  \n",
    "对于tf.Variable,可以通过索引和切片对部分元素进行修改。  \n",
    "对于提取张量的连续子区域，也可以用tf.slice.  \n",
    "此外，对于不规则的切片提取,可以使用tf.gather,tf.gather_nd,tf.boolean_mask。\n",
    "\n",
    "tf.boolean_mask功能最为强大，它可以实现tf.gather,tf.gather_nd的功能，并且tf.boolean_mask还可以实现布尔索引。\n",
    "\n",
    "如果要通过修改张量的某些元素得到新的张量，可以使用tf.where，tf.scatter_nd。"
   ]
  },
  {
   "cell_type": "code",
   "execution_count": 13,
   "metadata": {},
   "outputs": [
    {
     "name": "stdout",
     "output_type": "stream",
     "text": [
      "[[4 7 4 2 9]\n",
      " [9 1 2 4 7]\n",
      " [7 2 7 4 0]\n",
      " [9 6 9 7 2]\n",
      " [3 7 0 0 3]]\n"
     ]
    }
   ],
   "source": [
    "tf.random.set_seed(3)\n",
    "t = tf.random.uniform([5,5],minval=0,maxval=10,dtype=tf.int32)\n",
    "tf.print(t)"
   ]
  },
  {
   "cell_type": "code",
   "execution_count": 14,
   "metadata": {},
   "outputs": [
    {
     "name": "stdout",
     "output_type": "stream",
     "text": [
      "[4 7 4 2 9]\n"
     ]
    }
   ],
   "source": [
    "tf.print(t[0])"
   ]
  },
  {
   "cell_type": "code",
   "execution_count": 15,
   "metadata": {},
   "outputs": [
    {
     "name": "stdout",
     "output_type": "stream",
     "text": [
      "[7 1 2 6 7]\n"
     ]
    }
   ],
   "source": [
    "tf.print(t[:,1])"
   ]
  },
  {
   "cell_type": "code",
   "execution_count": 16,
   "metadata": {},
   "outputs": [
    {
     "name": "stdout",
     "output_type": "stream",
     "text": [
      "4\n",
      "4\n"
     ]
    }
   ],
   "source": [
    "#第1行第3列\n",
    "tf.print(t[1,3])\n",
    "tf.print(t[1][3])"
   ]
  },
  {
   "cell_type": "code",
   "execution_count": 19,
   "metadata": {},
   "outputs": [
    {
     "name": "stdout",
     "output_type": "stream",
     "text": [
      "[[9 1 2 4 7]\n",
      " [7 2 7 4 0]\n",
      " [9 6 9 7 2]]\n",
      "[[9 1 2 4 7]\n",
      " [7 2 7 4 0]\n",
      " [9 6 9 7 2]]\n"
     ]
    }
   ],
   "source": [
    "tf.print(t[1:4,:])\n",
    "tf.print(tf.slice(t,[1,0],[3,5]))#tf.slice(input,begin_vector,size_vector)"
   ]
  },
  {
   "cell_type": "code",
   "execution_count": 21,
   "metadata": {},
   "outputs": [
    {
     "name": "stdout",
     "output_type": "stream",
     "text": [
      "[[1 2]\n",
      " [0 0]]\n"
     ]
    }
   ],
   "source": [
    "x = tf.Variable([[1,2],[3,4]],dtype=tf.float32)\n",
    "x[1,:].assign(tf.constant([0.0,0.0]))\n",
    "tf.print(x)"
   ]
  },
  {
   "cell_type": "markdown",
   "metadata": {},
   "source": [
    "以上切片方式相对规则，对于不规则的切片提取,可以使用tf.gather,tf.gather_nd,tf.boolean_mask。\n",
    "\n",
    "考虑班级成绩册的例子，有4个班级，每个班级10个学生，每个学生7门科目成绩。可以用一个4×10×7的张量来表示。"
   ]
  },
  {
   "cell_type": "code",
   "execution_count": 23,
   "metadata": {},
   "outputs": [
    {
     "name": "stdout",
     "output_type": "stream",
     "text": [
      "[[[52 82 66 ... 17 86 14]\n",
      "  [8 36 94 ... 13 78 41]\n",
      "  [77 53 51 ... 22 91 56]\n",
      "  ...\n",
      "  [11 19 26 ... 89 86 68]\n",
      "  [60 72 0 ... 11 26 15]\n",
      "  [24 99 38 ... 97 44 74]]\n",
      "\n",
      " [[79 73 73 ... 35 3 81]\n",
      "  [83 36 31 ... 75 38 85]\n",
      "  [54 26 67 ... 60 68 98]\n",
      "  ...\n",
      "  [20 5 18 ... 32 45 3]\n",
      "  [72 52 81 ... 88 41 20]\n",
      "  [0 21 89 ... 53 10 90]]\n",
      "\n",
      " [[52 80 22 ... 29 25 60]\n",
      "  [78 71 54 ... 43 98 81]\n",
      "  [21 66 53 ... 97 75 77]\n",
      "  ...\n",
      "  [6 74 3 ... 53 65 43]\n",
      "  [98 36 72 ... 33 36 81]\n",
      "  [61 78 70 ... 7 59 21]]\n",
      "\n",
      " [[56 57 45 ... 23 15 3]\n",
      "  [35 8 82 ... 11 59 97]\n",
      "  [44 6 99 ... 81 60 27]\n",
      "  ...\n",
      "  [76 26 35 ... 51 8 17]\n",
      "  [33 52 53 ... 78 37 31]\n",
      "  [71 27 44 ... 0 52 16]]]\n"
     ]
    }
   ],
   "source": [
    "scores = tf.random.uniform((4,10,7),minval=0,maxval=100,dtype=tf.int32)\n",
    "tf.print(scores)"
   ]
  },
  {
   "cell_type": "code",
   "execution_count": 25,
   "metadata": {},
   "outputs": [
    {
     "name": "stdout",
     "output_type": "stream",
     "text": [
      "[[[52 82 66 ... 17 86 14]\n",
      "  [24 80 70 ... 72 63 96]\n",
      "  [24 99 38 ... 97 44 74]]\n",
      "\n",
      " [[79 73 73 ... 35 3 81]\n",
      "  [46 10 94 ... 23 18 92]\n",
      "  [0 21 89 ... 53 10 90]]\n",
      "\n",
      " [[52 80 22 ... 29 25 60]\n",
      "  [19 12 23 ... 87 86 25]\n",
      "  [61 78 70 ... 7 59 21]]\n",
      "\n",
      " [[56 57 45 ... 23 15 3]\n",
      "  [6 41 79 ... 97 43 13]\n",
      "  [71 27 44 ... 0 52 16]]]\n"
     ]
    }
   ],
   "source": [
    "p = tf.gather(scores,[0,5,9],axis=1)#axis=1代表是学生全取\n",
    "tf.print(p)"
   ]
  },
  {
   "cell_type": "code",
   "execution_count": 27,
   "metadata": {},
   "outputs": [
    {
     "name": "stdout",
     "output_type": "stream",
     "text": [
      "[[[82 55 14]\n",
      "  [80 46 96]\n",
      "  [99 58 74]]\n",
      "\n",
      " [[73 48 81]\n",
      "  [10 38 92]\n",
      "  [21 86 90]]\n",
      "\n",
      " [[80 57 60]\n",
      "  [12 34 25]\n",
      "  [78 71 21]]\n",
      "\n",
      " [[57 75 3]\n",
      "  [41 47 13]\n",
      "  [27 96 16]]]\n"
     ]
    }
   ],
   "source": [
    "q = tf.gather(tf.gather(scores,[0,5,9],axis=1),[1,3,6],axis=2)\n",
    "tf.print(q)"
   ]
  },
  {
   "cell_type": "code",
   "execution_count": 28,
   "metadata": {},
   "outputs": [
    {
     "data": {
      "text/plain": [
       "<tf.Tensor: shape=(3, 7), dtype=int32, numpy=\n",
       "array([[52, 82, 66, 55, 17, 86, 14],\n",
       "       [99, 94, 46, 70,  1, 63, 41],\n",
       "       [46, 83, 70, 80, 90, 85, 17]], dtype=int32)>"
      ]
     },
     "execution_count": 28,
     "metadata": {},
     "output_type": "execute_result"
    }
   ],
   "source": [
    "# 抽取第0个班级第0个学生，第2个班级的第4个学生，第3个班级的第6个学生的全部成绩\n",
    "#indices的长度为采样样本的个数，每个元素为采样位置的坐标\n",
    "s = tf.gather_nd(scores,indices=[(0,0),(2,4),(3,6)])\n",
    "s"
   ]
  },
  {
   "cell_type": "code",
   "execution_count": 29,
   "metadata": {},
   "outputs": [
    {
     "name": "stdout",
     "output_type": "stream",
     "text": [
      "[[[52 82 66 ... 17 86 14]\n",
      "  [24 80 70 ... 72 63 96]\n",
      "  [24 99 38 ... 97 44 74]]\n",
      "\n",
      " [[79 73 73 ... 35 3 81]\n",
      "  [46 10 94 ... 23 18 92]\n",
      "  [0 21 89 ... 53 10 90]]\n",
      "\n",
      " [[52 80 22 ... 29 25 60]\n",
      "  [19 12 23 ... 87 86 25]\n",
      "  [61 78 70 ... 7 59 21]]\n",
      "\n",
      " [[56 57 45 ... 23 15 3]\n",
      "  [6 41 79 ... 97 43 13]\n",
      "  [71 27 44 ... 0 52 16]]]\n"
     ]
    }
   ],
   "source": [
    "#抽取每个班级第0个学生，第5个学生，第9个学生的全部成绩\n",
    "p = tf.boolean_mask(scores,[True,False,False,False,False,\n",
    "                            True,False,False,False,True],axis=1)\n",
    "tf.print(p)"
   ]
  },
  {
   "cell_type": "code",
   "execution_count": 30,
   "metadata": {},
   "outputs": [
    {
     "name": "stdout",
     "output_type": "stream",
     "text": [
      "[[52 82 66 ... 17 86 14]\n",
      " [99 94 46 ... 1 63 41]\n",
      " [46 83 70 ... 90 85 17]]\n"
     ]
    }
   ],
   "source": [
    "#抽取第0个班级第0个学生，第2个班级的第4个学生，第3个班级的第6个学生的全部成绩\n",
    "s = tf.boolean_mask(scores,\n",
    "    [[True,False,False,False,False,False,False,False,False,False],\n",
    "     [False,False,False,False,False,False,False,False,False,False],\n",
    "     [False,False,False,False,True,False,False,False,False,False],\n",
    "     [False,False,False,False,False,False,True,False,False,False]])\n",
    "tf.print(s)"
   ]
  },
  {
   "cell_type": "code",
   "execution_count": 31,
   "metadata": {},
   "outputs": [
    {
     "name": "stdout",
     "output_type": "stream",
     "text": [
      "[[-1 1 -1]\n",
      " [2 2 -2]\n",
      " [3 -3 3]] \n",
      "\n",
      "[-1 -1 -2 -3] \n",
      "\n",
      "[-1 -1 -2 -3]\n"
     ]
    }
   ],
   "source": [
    "c = tf.constant([[-1,1,-1],[2,2,-2],[3,-3,3]],dtype=tf.float32)\n",
    "tf.print(c,\"\\n\")\n",
    "\n",
    "tf.print(tf.boolean_mask(c,c<0),\"\\n\")\n",
    "tf.print(c[c<0])"
   ]
  },
  {
   "cell_type": "markdown",
   "metadata": {},
   "source": [
    "以上这些方法仅能提取张量的部分元素值，但不能更改张量的部分元素值得到新的张量。\n",
    "\n",
    "如果要通过修改张量的部分元素值得到新的张量，可以使用tf.where和tf.scatter_nd。\n",
    "\n",
    "tf.where可以理解为if的张量版本，此外它还可以用于找到满足条件的所有元素的位置坐标。\n",
    "\n",
    "tf.scatter_nd的作用和tf.gather_nd有些相反，tf.gather_nd用于收集张量的给定位置的元素，\n",
    "\n",
    "而tf.scatter_nd可以将某些值插入到一个给定shape的全0的张量的指定位置处。"
   ]
  },
  {
   "cell_type": "code",
   "execution_count": 32,
   "metadata": {},
   "outputs": [
    {
     "data": {
      "text/plain": [
       "<tf.Tensor: shape=(3, 3), dtype=float32, numpy=\n",
       "array([[nan,  1., nan],\n",
       "       [ 2.,  2., nan],\n",
       "       [ 3., nan,  3.]], dtype=float32)>"
      ]
     },
     "execution_count": 32,
     "metadata": {},
     "output_type": "execute_result"
    }
   ],
   "source": [
    "d = tf.where(c<0,tf.fill(c.shape,np.nan),c)\n",
    "d"
   ]
  },
  {
   "cell_type": "code",
   "execution_count": 33,
   "metadata": {},
   "outputs": [
    {
     "data": {
      "text/plain": [
       "<tf.Tensor: shape=(4, 2), dtype=int64, numpy=\n",
       "array([[0, 0],\n",
       "       [0, 2],\n",
       "       [1, 2],\n",
       "       [2, 1]])>"
      ]
     },
     "execution_count": 33,
     "metadata": {},
     "output_type": "execute_result"
    }
   ],
   "source": [
    "#如果where只有一个参数，将返回所有满足条件的位置坐标\n",
    "indices = tf.where(c<0)\n",
    "indices"
   ]
  },
  {
   "cell_type": "code",
   "execution_count": 38,
   "metadata": {},
   "outputs": [
    {
     "name": "stdout",
     "output_type": "stream",
     "text": [
      "[[-1 1 -1]\n",
      " [2 2 -2]\n",
      " [3 -3 3]]\n"
     ]
    },
    {
     "data": {
      "text/plain": [
       "<tf.Tensor: shape=(3, 3), dtype=float32, numpy=\n",
       "array([[ 0.,  1., -1.],\n",
       "       [ 2.,  2., -2.],\n",
       "       [ 3.,  0.,  3.]], dtype=float32)>"
      ]
     },
     "execution_count": 38,
     "metadata": {},
     "output_type": "execute_result"
    }
   ],
   "source": [
    "tf.print(c)\n",
    "#此处的意思是，将c[0,0]和c[2,1]赋值到[0,0],[2,1]坐标上，其他坐标处的值均为0\n",
    "d = c - tf.scatter_nd([[0,0],[2,1]],[c[0,0],c[2,1]],c.shape)\n",
    "d"
   ]
  },
  {
   "cell_type": "markdown",
   "metadata": {},
   "source": [
    "## 三、纬度变换\n",
    "维度变换相关函数主要有 tf.reshape, tf.squeeze, tf.expand_dims, tf.transpose.\n",
    "\n",
    "tf.reshape 可以改变张量的形状。\n",
    "\n",
    "tf.squeeze 可以减少维度。\n",
    "\n",
    "tf.expand_dims 可以增加维度。\n",
    "\n",
    "tf.transpose 可以交换维度。\n",
    "\n",
    "tf.reshape可以改变张量的形状，但是其本质上不会改变张量元素的存储顺序，所以，该操作实际上非常迅速，并且是可逆的。"
   ]
  },
  {
   "cell_type": "code",
   "execution_count": 39,
   "metadata": {},
   "outputs": [
    {
     "name": "stdout",
     "output_type": "stream",
     "text": [
      "TensorShape([1, 3, 3, 2])\n",
      "[[[[100 44]\n",
      "   [181 14]\n",
      "   [90 53]]\n",
      "\n",
      "  [[205 141]\n",
      "   [14 24]\n",
      "   [239 46]]\n",
      "\n",
      "  [[225 174]\n",
      "   [212 78]\n",
      "   [14 144]]]]\n"
     ]
    }
   ],
   "source": [
    "a = tf.random.uniform(shape=[1,3,3,2],\n",
    "                      minval=0,maxval=255,dtype=tf.int32)\n",
    "tf.print(a.shape)\n",
    "tf.print(a)"
   ]
  },
  {
   "cell_type": "code",
   "execution_count": 40,
   "metadata": {},
   "outputs": [
    {
     "name": "stdout",
     "output_type": "stream",
     "text": [
      "TensorShape([3, 6])\n",
      "[[100 44 181 14 90 53]\n",
      " [205 141 14 24 239 46]\n",
      " [225 174 212 78 14 144]]\n"
     ]
    }
   ],
   "source": [
    "b = tf.reshape(a,[3,6])\n",
    "tf.print(b.shape)\n",
    "tf.print(b)"
   ]
  },
  {
   "cell_type": "markdown",
   "metadata": {},
   "source": [
    "如果张量在某个维度上只有一个元素，利用tf.squeeze可以消除这个维度。\n",
    "\n",
    "和tf.reshape相似，它本质上不会改变张量元素的存储顺序。\n",
    "\n",
    "张量的各个元素在内存中是线性存储的，其一般规律是，同一层级中的相邻元素的物理地址也相邻。"
   ]
  },
  {
   "cell_type": "code",
   "execution_count": 42,
   "metadata": {},
   "outputs": [
    {
     "name": "stdout",
     "output_type": "stream",
     "text": [
      "TensorShape([3, 3, 2])\n",
      "[[[100 44]\n",
      "  [181 14]\n",
      "  [90 53]]\n",
      "\n",
      " [[205 141]\n",
      "  [14 24]\n",
      "  [239 46]]\n",
      "\n",
      " [[225 174]\n",
      "  [212 78]\n",
      "  [14 144]]]\n"
     ]
    }
   ],
   "source": [
    "s = tf.squeeze(a)\n",
    "tf.print(s.shape)\n",
    "tf.print(s)"
   ]
  },
  {
   "cell_type": "code",
   "execution_count": 45,
   "metadata": {},
   "outputs": [],
   "source": [
    "d = tf.expand_dims(s,axis=1)"
   ]
  },
  {
   "cell_type": "code",
   "execution_count": 46,
   "metadata": {},
   "outputs": [
    {
     "data": {
      "text/plain": [
       "<tf.Tensor: shape=(3, 1, 3, 2), dtype=int32, numpy=\n",
       "array([[[[100,  44],\n",
       "         [181,  14],\n",
       "         [ 90,  53]]],\n",
       "\n",
       "\n",
       "       [[[205, 141],\n",
       "         [ 14,  24],\n",
       "         [239,  46]]],\n",
       "\n",
       "\n",
       "       [[[225, 174],\n",
       "         [212,  78],\n",
       "         [ 14, 144]]]], dtype=int32)>"
      ]
     },
     "execution_count": 46,
     "metadata": {},
     "output_type": "execute_result"
    }
   ],
   "source": [
    "d"
   ]
  },
  {
   "cell_type": "markdown",
   "metadata": {},
   "source": [
    "tf.transpose可以交换张量的纬度，与tf.reshape不同，它会改变张量元素的存储顺序。tf.transpose常用于存储格式的变换上"
   ]
  },
  {
   "cell_type": "code",
   "execution_count": 49,
   "metadata": {},
   "outputs": [
    {
     "name": "stdout",
     "output_type": "stream",
     "text": [
      "TensorShape([100, 600, 600, 4])\n",
      "TensorShape([4, 600, 600, 100])\n"
     ]
    }
   ],
   "source": [
    "#batch,height,width,channel\n",
    "a = tf.random.uniform(shape=[100,600,600,4],minval=0,maxval=255,dtype=tf.int32)\n",
    "tf.print(a.shape)\n",
    "\n",
    "#转换为channel,height,width,batch\n",
    "s = tf.transpose(a,perm = [3,1,2,0])\n",
    "tf.print(s.shape)"
   ]
  },
  {
   "cell_type": "markdown",
   "metadata": {},
   "source": [
    "### 四、合并分割\n",
    "和numpy类似，可以用tf.concat和tf.stack方法对多个张量进行合并，可以用tf.split方法把一个张量分割为多个张量。   \n",
    "tf.concat和tf.stack有略微的区别，tf.concat是链接不会增加纬度。  \n",
    "而tf.stack是堆叠，会增加纬度"
   ]
  },
  {
   "cell_type": "code",
   "execution_count": 52,
   "metadata": {},
   "outputs": [
    {
     "data": {
      "text/plain": [
       "<tf.Tensor: shape=(6, 2), dtype=float32, numpy=\n",
       "array([[ 1.,  2.],\n",
       "       [ 3.,  4.],\n",
       "       [ 5.,  6.],\n",
       "       [ 7.,  8.],\n",
       "       [ 9., 10.],\n",
       "       [11., 12.]], dtype=float32)>"
      ]
     },
     "execution_count": 52,
     "metadata": {},
     "output_type": "execute_result"
    }
   ],
   "source": [
    "a = tf.constant([[1.0,2.0],[3.0,4.0]])\n",
    "b = tf.constant([[5.0,6.0],[7.0,8.0]])\n",
    "c = tf.constant([[9.0,10.0],[11.0,12.0]])\n",
    "\n",
    "tf.concat([a,b,c],axis=0)"
   ]
  },
  {
   "cell_type": "code",
   "execution_count": 53,
   "metadata": {},
   "outputs": [
    {
     "data": {
      "text/plain": [
       "<tf.Tensor: shape=(2, 6), dtype=float32, numpy=\n",
       "array([[ 1.,  2.,  5.,  6.,  9., 10.],\n",
       "       [ 3.,  4.,  7.,  8., 11., 12.]], dtype=float32)>"
      ]
     },
     "execution_count": 53,
     "metadata": {},
     "output_type": "execute_result"
    }
   ],
   "source": [
    "tf.concat([a,b,c],axis=1)"
   ]
  },
  {
   "cell_type": "code",
   "execution_count": 54,
   "metadata": {},
   "outputs": [
    {
     "data": {
      "text/plain": [
       "<tf.Tensor: shape=(3, 2, 2), dtype=float32, numpy=\n",
       "array([[[ 1.,  2.],\n",
       "        [ 3.,  4.]],\n",
       "\n",
       "       [[ 5.,  6.],\n",
       "        [ 7.,  8.]],\n",
       "\n",
       "       [[ 9., 10.],\n",
       "        [11., 12.]]], dtype=float32)>"
      ]
     },
     "execution_count": 54,
     "metadata": {},
     "output_type": "execute_result"
    }
   ],
   "source": [
    "tf.stack([a,b,c])"
   ]
  },
  {
   "cell_type": "code",
   "execution_count": 55,
   "metadata": {},
   "outputs": [
    {
     "data": {
      "text/plain": [
       "<tf.Tensor: shape=(2, 3, 2), dtype=float32, numpy=\n",
       "array([[[ 1.,  2.],\n",
       "        [ 5.,  6.],\n",
       "        [ 9., 10.]],\n",
       "\n",
       "       [[ 3.,  4.],\n",
       "        [ 7.,  8.],\n",
       "        [11., 12.]]], dtype=float32)>"
      ]
     },
     "execution_count": 55,
     "metadata": {},
     "output_type": "execute_result"
    }
   ],
   "source": [
    "tf.stack([a,b,c],axis=1)"
   ]
  },
  {
   "cell_type": "code",
   "execution_count": 56,
   "metadata": {},
   "outputs": [],
   "source": [
    "a = tf.constant([[1.0,2.0],[3.0,4.0]])\n",
    "b = tf.constant([[5.0,6.0],[7.0,8.0]])\n",
    "c = tf.constant([[9.0,10.0],[11.0,12.0]])\n",
    "\n",
    "c = tf.concat([a,b,c],axis = 0)"
   ]
  },
  {
   "cell_type": "code",
   "execution_count": 57,
   "metadata": {},
   "outputs": [
    {
     "data": {
      "text/plain": [
       "[<tf.Tensor: shape=(2, 2), dtype=float32, numpy=\n",
       " array([[1., 2.],\n",
       "        [3., 4.]], dtype=float32)>,\n",
       " <tf.Tensor: shape=(2, 2), dtype=float32, numpy=\n",
       " array([[5., 6.],\n",
       "        [7., 8.]], dtype=float32)>,\n",
       " <tf.Tensor: shape=(2, 2), dtype=float32, numpy=\n",
       " array([[ 9., 10.],\n",
       "        [11., 12.]], dtype=float32)>]"
      ]
     },
     "execution_count": 57,
     "metadata": {},
     "output_type": "execute_result"
    }
   ],
   "source": [
    "#tf.split是tf.concat的逆运算，可以指定分割份数平均分割，也可以通过指定每份的记录数量进行分割。\n",
    "tf.split(c,3,axis=0)"
   ]
  },
  {
   "cell_type": "code",
   "execution_count": 58,
   "metadata": {},
   "outputs": [
    {
     "data": {
      "text/plain": [
       "[<tf.Tensor: shape=(2, 2), dtype=float32, numpy=\n",
       " array([[1., 2.],\n",
       "        [3., 4.]], dtype=float32)>,\n",
       " <tf.Tensor: shape=(2, 2), dtype=float32, numpy=\n",
       " array([[5., 6.],\n",
       "        [7., 8.]], dtype=float32)>,\n",
       " <tf.Tensor: shape=(2, 2), dtype=float32, numpy=\n",
       " array([[ 9., 10.],\n",
       "        [11., 12.]], dtype=float32)>]"
      ]
     },
     "execution_count": 58,
     "metadata": {},
     "output_type": "execute_result"
    }
   ],
   "source": [
    "tf.split(c,[2,2,2],axis = 0) #指定每份的记录数量"
   ]
  },
  {
   "cell_type": "code",
   "execution_count": null,
   "metadata": {},
   "outputs": [],
   "source": []
  }
 ],
 "metadata": {
  "kernelspec": {
   "display_name": "tf2",
   "language": "python",
   "name": "tf2"
  },
  "language_info": {
   "codemirror_mode": {
    "name": "ipython",
    "version": 3
   },
   "file_extension": ".py",
   "mimetype": "text/x-python",
   "name": "python",
   "nbconvert_exporter": "python",
   "pygments_lexer": "ipython3",
   "version": "3.6.10"
  }
 },
 "nbformat": 4,
 "nbformat_minor": 2
}
