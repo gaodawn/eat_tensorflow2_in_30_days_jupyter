{
 "cells": [
  {
   "cell_type": "markdown",
   "metadata": {},
   "source": [
    "# 1-1、结构化数据建模流程范例"
   ]
  },
  {
   "cell_type": "markdown",
   "metadata": {},
   "source": [
    "## 一、准备数据\n",
    "titanic数据集的目标是根据乘客们信息预测他们在Titanic号撞击冰山沉没侯能否生存。\n",
    "结构化数据一般会使用Pandas中的DataFrame进行预处理"
   ]
  },
  {
   "cell_type": "code",
   "execution_count": 4,
   "metadata": {},
   "outputs": [],
   "source": [
    "import numpy as np\n",
    "import pandas as pd\n",
    "import matplotlib.pyplot as plt\n",
    "import tensorflow as tf\n",
    "from tensorflow.keras import models,layers"
   ]
  },
  {
   "cell_type": "code",
   "execution_count": 5,
   "metadata": {},
   "outputs": [
    {
     "data": {
      "text/html": [
       "<div>\n",
       "<style scoped>\n",
       "    .dataframe tbody tr th:only-of-type {\n",
       "        vertical-align: middle;\n",
       "    }\n",
       "\n",
       "    .dataframe tbody tr th {\n",
       "        vertical-align: top;\n",
       "    }\n",
       "\n",
       "    .dataframe thead th {\n",
       "        text-align: right;\n",
       "    }\n",
       "</style>\n",
       "<table border=\"1\" class=\"dataframe\">\n",
       "  <thead>\n",
       "    <tr style=\"text-align: right;\">\n",
       "      <th></th>\n",
       "      <th>PassengerId</th>\n",
       "      <th>Survived</th>\n",
       "      <th>Pclass</th>\n",
       "      <th>Name</th>\n",
       "      <th>Sex</th>\n",
       "      <th>Age</th>\n",
       "      <th>SibSp</th>\n",
       "      <th>Parch</th>\n",
       "      <th>Ticket</th>\n",
       "      <th>Fare</th>\n",
       "      <th>Cabin</th>\n",
       "      <th>Embarked</th>\n",
       "    </tr>\n",
       "  </thead>\n",
       "  <tbody>\n",
       "    <tr>\n",
       "      <th>0</th>\n",
       "      <td>493</td>\n",
       "      <td>0</td>\n",
       "      <td>1</td>\n",
       "      <td>Molson, Mr. Harry Markland</td>\n",
       "      <td>male</td>\n",
       "      <td>55.0</td>\n",
       "      <td>0</td>\n",
       "      <td>0</td>\n",
       "      <td>113787</td>\n",
       "      <td>30.5000</td>\n",
       "      <td>C30</td>\n",
       "      <td>S</td>\n",
       "    </tr>\n",
       "    <tr>\n",
       "      <th>1</th>\n",
       "      <td>53</td>\n",
       "      <td>1</td>\n",
       "      <td>1</td>\n",
       "      <td>Harper, Mrs. Henry Sleeper (Myna Haxtun)</td>\n",
       "      <td>female</td>\n",
       "      <td>49.0</td>\n",
       "      <td>1</td>\n",
       "      <td>0</td>\n",
       "      <td>PC 17572</td>\n",
       "      <td>76.7292</td>\n",
       "      <td>D33</td>\n",
       "      <td>C</td>\n",
       "    </tr>\n",
       "    <tr>\n",
       "      <th>2</th>\n",
       "      <td>388</td>\n",
       "      <td>1</td>\n",
       "      <td>2</td>\n",
       "      <td>Buss, Miss. Kate</td>\n",
       "      <td>female</td>\n",
       "      <td>36.0</td>\n",
       "      <td>0</td>\n",
       "      <td>0</td>\n",
       "      <td>27849</td>\n",
       "      <td>13.0000</td>\n",
       "      <td>NaN</td>\n",
       "      <td>S</td>\n",
       "    </tr>\n",
       "    <tr>\n",
       "      <th>3</th>\n",
       "      <td>192</td>\n",
       "      <td>0</td>\n",
       "      <td>2</td>\n",
       "      <td>Carbines, Mr. William</td>\n",
       "      <td>male</td>\n",
       "      <td>19.0</td>\n",
       "      <td>0</td>\n",
       "      <td>0</td>\n",
       "      <td>28424</td>\n",
       "      <td>13.0000</td>\n",
       "      <td>NaN</td>\n",
       "      <td>S</td>\n",
       "    </tr>\n",
       "    <tr>\n",
       "      <th>4</th>\n",
       "      <td>687</td>\n",
       "      <td>0</td>\n",
       "      <td>3</td>\n",
       "      <td>Panula, Mr. Jaako Arnold</td>\n",
       "      <td>male</td>\n",
       "      <td>14.0</td>\n",
       "      <td>4</td>\n",
       "      <td>1</td>\n",
       "      <td>3101295</td>\n",
       "      <td>39.6875</td>\n",
       "      <td>NaN</td>\n",
       "      <td>S</td>\n",
       "    </tr>\n",
       "    <tr>\n",
       "      <th>5</th>\n",
       "      <td>16</td>\n",
       "      <td>1</td>\n",
       "      <td>2</td>\n",
       "      <td>Hewlett, Mrs. (Mary D Kingcome)</td>\n",
       "      <td>female</td>\n",
       "      <td>55.0</td>\n",
       "      <td>0</td>\n",
       "      <td>0</td>\n",
       "      <td>248706</td>\n",
       "      <td>16.0000</td>\n",
       "      <td>NaN</td>\n",
       "      <td>S</td>\n",
       "    </tr>\n",
       "    <tr>\n",
       "      <th>6</th>\n",
       "      <td>228</td>\n",
       "      <td>0</td>\n",
       "      <td>3</td>\n",
       "      <td>Lovell, Mr. John Hall (\"Henry\")</td>\n",
       "      <td>male</td>\n",
       "      <td>20.5</td>\n",
       "      <td>0</td>\n",
       "      <td>0</td>\n",
       "      <td>A/5 21173</td>\n",
       "      <td>7.2500</td>\n",
       "      <td>NaN</td>\n",
       "      <td>S</td>\n",
       "    </tr>\n",
       "    <tr>\n",
       "      <th>7</th>\n",
       "      <td>884</td>\n",
       "      <td>0</td>\n",
       "      <td>2</td>\n",
       "      <td>Banfield, Mr. Frederick James</td>\n",
       "      <td>male</td>\n",
       "      <td>28.0</td>\n",
       "      <td>0</td>\n",
       "      <td>0</td>\n",
       "      <td>C.A./SOTON 34068</td>\n",
       "      <td>10.5000</td>\n",
       "      <td>NaN</td>\n",
       "      <td>S</td>\n",
       "    </tr>\n",
       "    <tr>\n",
       "      <th>8</th>\n",
       "      <td>168</td>\n",
       "      <td>0</td>\n",
       "      <td>3</td>\n",
       "      <td>Skoog, Mrs. William (Anna Bernhardina Karlsson)</td>\n",
       "      <td>female</td>\n",
       "      <td>45.0</td>\n",
       "      <td>1</td>\n",
       "      <td>4</td>\n",
       "      <td>347088</td>\n",
       "      <td>27.9000</td>\n",
       "      <td>NaN</td>\n",
       "      <td>S</td>\n",
       "    </tr>\n",
       "    <tr>\n",
       "      <th>9</th>\n",
       "      <td>752</td>\n",
       "      <td>1</td>\n",
       "      <td>3</td>\n",
       "      <td>Moor, Master. Meier</td>\n",
       "      <td>male</td>\n",
       "      <td>6.0</td>\n",
       "      <td>0</td>\n",
       "      <td>1</td>\n",
       "      <td>392096</td>\n",
       "      <td>12.4750</td>\n",
       "      <td>E121</td>\n",
       "      <td>S</td>\n",
       "    </tr>\n",
       "  </tbody>\n",
       "</table>\n",
       "</div>"
      ],
      "text/plain": [
       "   PassengerId  Survived  Pclass  \\\n",
       "0          493         0       1   \n",
       "1           53         1       1   \n",
       "2          388         1       2   \n",
       "3          192         0       2   \n",
       "4          687         0       3   \n",
       "5           16         1       2   \n",
       "6          228         0       3   \n",
       "7          884         0       2   \n",
       "8          168         0       3   \n",
       "9          752         1       3   \n",
       "\n",
       "                                              Name     Sex   Age  SibSp  \\\n",
       "0                       Molson, Mr. Harry Markland    male  55.0      0   \n",
       "1         Harper, Mrs. Henry Sleeper (Myna Haxtun)  female  49.0      1   \n",
       "2                                 Buss, Miss. Kate  female  36.0      0   \n",
       "3                            Carbines, Mr. William    male  19.0      0   \n",
       "4                         Panula, Mr. Jaako Arnold    male  14.0      4   \n",
       "5                 Hewlett, Mrs. (Mary D Kingcome)   female  55.0      0   \n",
       "6                  Lovell, Mr. John Hall (\"Henry\")    male  20.5      0   \n",
       "7                    Banfield, Mr. Frederick James    male  28.0      0   \n",
       "8  Skoog, Mrs. William (Anna Bernhardina Karlsson)  female  45.0      1   \n",
       "9                              Moor, Master. Meier    male   6.0      0   \n",
       "\n",
       "   Parch            Ticket     Fare Cabin Embarked  \n",
       "0      0            113787  30.5000   C30        S  \n",
       "1      0          PC 17572  76.7292   D33        C  \n",
       "2      0             27849  13.0000   NaN        S  \n",
       "3      0             28424  13.0000   NaN        S  \n",
       "4      1           3101295  39.6875   NaN        S  \n",
       "5      0            248706  16.0000   NaN        S  \n",
       "6      0         A/5 21173   7.2500   NaN        S  \n",
       "7      0  C.A./SOTON 34068  10.5000   NaN        S  \n",
       "8      4            347088  27.9000   NaN        S  \n",
       "9      1            392096  12.4750  E121        S  "
      ]
     },
     "execution_count": 5,
     "metadata": {},
     "output_type": "execute_result"
    }
   ],
   "source": [
    "dftrain_raw = pd.read_csv('./data/titanic/train.csv')\n",
    "dftest_raw = pd.read_csv('./data/titanic/test.csv')\n",
    "dftrain_raw.head(10)"
   ]
  },
  {
   "cell_type": "markdown",
   "metadata": {},
   "source": [
    "### 字段说明\n",
    "- Survived:0代表死亡，1代表存活【y标签】\n",
    "- Pclass:乘客所持票类，有三种值(1,2,3) 【转换成onehot编码】\n",
    "- Name:乘客姓名 【舍去】\n",
    "- Sex:乘客性别 【转换成bool特征】\n",
    "- Age:乘客年龄(有缺失) 【数值特征，添加“年龄是否缺失”作为辅助特征】\n",
    "- SibSp:乘客兄弟姐妹/配偶的个数(整数值) 【数值特征】\n",
    "- Parch:乘客父母/孩子的个数(整数值)【数值特征】\n",
    "- Ticket:票号(字符串)【舍去】\n",
    "- Fare:乘客所持票的价格(浮点数，0-500不等) 【数值特征】\n",
    "- Cabin:乘客所在船舱(有缺失) 【添加“所在船舱是否缺失”作为辅助特征】\n",
    "- Embarked:乘客登船港口:S、C、Q(有缺失)【转换成onehot编码，四维度 S,C,Q,nan】\n",
    "\n",
    "利用Pandas的数据可视化功能我们可以简单地进行探索性数据分析EDA(Exploratory Data Analysis)。比如，Labels分布情况如下"
   ]
  },
  {
   "cell_type": "code",
   "execution_count": 7,
   "metadata": {},
   "outputs": [
    {
     "data": {
      "image/png": "[encoded data removed]",
      "text/plain": [
       "<Figure size 864x576 with 1 Axes>"
      ]
     },
     "metadata": {
      "needs_background": "light"
     },
     "output_type": "display_data"
    }
   ],
   "source": [
    "%matplotlib inline\n",
    "%config InlineBackend.figure_format = 'png'\n",
    "ax = dftrain_raw['Survived'].value_counts().plot(kind='bar',figsize=(12,8),fontsize=15,rot=0)\n",
    "ax.set_ylabel('Counts',fontsize=15)\n",
    "ax.set_xlabel('Survived',fontsize=15)\n",
    "plt.show()"
   ]
  },
  {
   "cell_type": "markdown",
   "metadata": {},
   "source": [
    "#### 年龄分布情况"
   ]
  },
  {
   "cell_type": "code",
   "execution_count": 27,
   "metadata": {},
   "outputs": [
    {
     "data": {
      "image/png": "[encoded data removed]",
      "text/plain": [
       "<Figure size 432x288 with 1 Axes>"
      ]
     },
     "metadata": {
      "needs_background": "light"
     },
     "output_type": "display_data"
    }
   ],
   "source": [
    "# print(list(dftrain_raw['Age']))\n",
    "# print(type(list(dftrain_raw['Age'])))\n",
    "plt.hist(np.array(list(dftrain_raw['Age'])),bins=20)\n",
    "plt.ylabel('Frenquency',fontsize=10)\n",
    "plt.xlabel('Age',fontsize=10)\n",
    "plt.show()"
   ]
  },
  {
   "cell_type": "markdown",
   "metadata": {},
   "source": [
    "### 年龄和label的相关性"
   ]
  },
  {
   "cell_type": "code",
   "execution_count": 29,
   "metadata": {},
   "outputs": [
    {
     "data": {
      "text/plain": [
       "Text(0, 0.5, 'Density')"
      ]
     },
     "execution_count": 29,
     "metadata": {},
     "output_type": "execute_result"
    },
    {
     "data": {
      "image/png": "[encoded data removed]",
      "text/plain": [
       "<Figure size 864x576 with 1 Axes>"
      ]
     },
     "metadata": {
      "needs_background": "light"
     },
     "output_type": "display_data"
    }
   ],
   "source": [
    "%matplotlib inline\n",
    "ax = dftrain_raw.query('Survived==0')['Age'].plot(kind='density',figsize=(12,8),fontsize=15)\n",
    "dftrain_raw.query('Survived==1')['Age'].plot(kind='density',figsize=(12,8),fontsize=15)\n",
    "ax.legend(['Survived==0','Survived==1'],fontsize=12)\n",
    "ax.set_xlabel('Age',fontsize=15)\n",
    "ax.set_ylabel('Density',fontsize=15)"
   ]
  },
  {
   "cell_type": "markdown",
   "metadata": {},
   "source": [
    "### 下面为正式的数据预处理"
   ]
  },
  {
   "cell_type": "code",
   "execution_count": 30,
   "metadata": {},
   "outputs": [],
   "source": [
    "def preprocessing(dfdata):\n",
    "    dfresult = pd.DataFrame()\n",
    "    \n",
    "    #Pclass,get_dummies对特征进行one-hot编码\n",
    "    dfPclass = pd.get_dummies(dfdata['Pclass'])\n",
    "    dfPclass.columns = ['Pclass_'+str(x) for x in dfPclass.columns]\n",
    "    dfresult = pd.concat([dfresult,dfPclass],axis=1)\n",
    "    \n",
    "    #Sex\n",
    "    dfSex = pd.get_dummies(dfdata['Sex'])\n",
    "    dfresult = pd.concat([dfresult,dfSex],axis=1)\n",
    "    \n",
    "    #Age\n",
    "    dfresult['Age'] = dfdata['Age'].fillna(0)\n",
    "    dfresult['Age_null'] = pd.isna(dfdata['Age']).astype('int32')\n",
    "    \n",
    "    #sibsp,parch,fare\n",
    "    dfresult['SibSp'] = dfdata['SibSp']\n",
    "    dfresult['Parch'] = dfdata['Parch']\n",
    "    dfresult['Fare'] = dfdata['Fare']\n",
    "    \n",
    "    #Carbin\n",
    "    dfresult['Cabin_null'] = pd.isna(dfdata['Cabin']).astype('int32')\n",
    "    dfEmbarked = pd.get_dummies(dfdata['Embarked'],dummy_na=True)\n",
    "    dfEmbarked.columns = ['Embarked_'+str(x) for x in dfEmbarked.columns]\n",
    "    dfresult = pd.concat([dfresult,dfEmbarked],axis=1)\n",
    "    \n",
    "    return(dfresult)"
   ]
  },
  {
   "cell_type": "code",
   "execution_count": 32,
   "metadata": {},
   "outputs": [
    {
     "name": "stdout",
     "output_type": "stream",
     "text": [
      "x_train.shape =  (712, 15)\n",
      "x_test.shape =  (179, 15)\n"
     ]
    }
   ],
   "source": [
    "x_train = preprocessing(dftrain_raw)\n",
    "y_train = dftrain_raw['Survived'].values\n",
    "\n",
    "x_test = preprocessing(dftest_raw)\n",
    "y_test = dftest_raw['Survived'].values\n",
    "\n",
    "print(\"x_train.shape = \",x_train.shape)\n",
    "print('x_test.shape = ',x_test.shape)"
   ]
  },
  {
   "cell_type": "markdown",
   "metadata": {},
   "source": [
    "## 定义模型 \n",
    "使用Keras接口有以下3种方式构建模型：使用Sequential按层顺序构建模型，使用函数式API构建任意结构模型，继承Model基类构建自定义模型。\n",
    "\n",
    "此处选择使用最简单的Sequential，按层顺序模型。"
   ]
  },
  {
   "cell_type": "code",
   "execution_count": 33,
   "metadata": {},
   "outputs": [
    {
     "name": "stdout",
     "output_type": "stream",
     "text": [
      "Model: \"sequential\"\n",
      "_________________________________________________________________\n",
      "Layer (type)                 Output Shape              Param #   \n",
      "=================================================================\n",
      "dense (Dense)                (None, 20)                320       \n",
      "_________________________________________________________________\n",
      "dense_1 (Dense)              (None, 10)                210       \n",
      "_________________________________________________________________\n",
      "dense_2 (Dense)              (None, 1)                 11        \n",
      "=================================================================\n",
      "Total params: 541\n",
      "Trainable params: 541\n",
      "Non-trainable params: 0\n",
      "_________________________________________________________________\n"
     ]
    }
   ],
   "source": [
    "tf.keras.backend.clear_session()\n",
    "\n",
    "model = models.Sequential()\n",
    "model.add(layers.Dense(20,activation='relu',input_shape=(15,)))\n",
    "model.add(layers.Dense(10,activation='relu'))\n",
    "model.add(layers.Dense(1,activation='sigmoid'))\n",
    "\n",
    "model.summary()"
   ]
  },
  {
   "cell_type": "markdown",
   "metadata": {},
   "source": [
    "## 三、训练模型\n",
    "训练模型通常有3种方法，内置fit方法，内置train_on_batch方法，以及自定义\n",
    "训练循环。此处我们选择最常用也最简单的内置fit方法。"
   ]
  },
  {
   "cell_type": "code",
   "execution_count": 35,
   "metadata": {},
   "outputs": [
    {
     "name": "stdout",
     "output_type": "stream",
     "text": [
      "Train on 569 samples, validate on 143 samples\n",
      "Epoch 1/30\n",
      "569/569 [==============================] - 1s 1ms/sample - loss: 3.8722 - AUC: 0.5721 - val_loss: 2.9839 - val_AUC: 0.5795\n",
      "Epoch 2/30\n",
      "569/569 [==============================] - 0s 57us/sample - loss: 2.7395 - AUC: 0.6175 - val_loss: 1.9957 - val_AUC: 0.6151\n",
      "Epoch 3/30\n",
      "569/569 [==============================] - 0s 56us/sample - loss: 1.8289 - AUC: 0.6447 - val_loss: 1.2774 - val_AUC: 0.6517\n",
      "Epoch 4/30\n",
      "569/569 [==============================] - 0s 56us/sample - loss: 1.2653 - AUC: 0.6436 - val_loss: 1.1304 - val_AUC: 0.5996\n",
      "Epoch 5/30\n",
      "569/569 [==============================] - 0s 58us/sample - loss: 1.1015 - AUC: 0.6390 - val_loss: 1.1082 - val_AUC: 0.6056\n",
      "Epoch 6/30\n",
      "569/569 [==============================] - 0s 59us/sample - loss: 0.9644 - AUC: 0.6577 - val_loss: 0.8986 - val_AUC: 0.6586\n",
      "Epoch 7/30\n",
      "569/569 [==============================] - 0s 58us/sample - loss: 0.8608 - AUC: 0.6991 - val_loss: 0.8507 - val_AUC: 0.6796\n",
      "Epoch 8/30\n",
      "569/569 [==============================] - 0s 60us/sample - loss: 0.8084 - AUC: 0.7114 - val_loss: 0.8210 - val_AUC: 0.6783\n",
      "Epoch 9/30\n",
      "569/569 [==============================] - 0s 65us/sample - loss: 0.7663 - AUC: 0.7060 - val_loss: 0.7940 - val_AUC: 0.6775\n",
      "Epoch 10/30\n",
      "569/569 [==============================] - 0s 64us/sample - loss: 0.7279 - AUC: 0.7225 - val_loss: 0.7495 - val_AUC: 0.6931\n",
      "Epoch 11/30\n",
      "569/569 [==============================] - 0s 62us/sample - loss: 0.6920 - AUC: 0.7316 - val_loss: 0.7164 - val_AUC: 0.7031\n",
      "Epoch 12/30\n",
      "569/569 [==============================] - 0s 58us/sample - loss: 0.6547 - AUC: 0.7500 - val_loss: 0.6822 - val_AUC: 0.7138\n",
      "Epoch 13/30\n",
      "569/569 [==============================] - 0s 61us/sample - loss: 0.6242 - AUC: 0.7602 - val_loss: 0.6624 - val_AUC: 0.7116\n",
      "Epoch 14/30\n",
      "569/569 [==============================] - 0s 65us/sample - loss: 0.5982 - AUC: 0.7669 - val_loss: 0.6368 - val_AUC: 0.7199\n",
      "Epoch 15/30\n",
      "569/569 [==============================] - 0s 57us/sample - loss: 0.5747 - AUC: 0.7782 - val_loss: 0.6157 - val_AUC: 0.7345\n",
      "Epoch 16/30\n",
      "569/569 [==============================] - 0s 59us/sample - loss: 0.5561 - AUC: 0.7933 - val_loss: 0.5976 - val_AUC: 0.7468\n",
      "Epoch 17/30\n",
      "569/569 [==============================] - 0s 55us/sample - loss: 0.5437 - AUC: 0.8020 - val_loss: 0.5836 - val_AUC: 0.7559\n",
      "Epoch 18/30\n",
      "569/569 [==============================] - 0s 53us/sample - loss: 0.5334 - AUC: 0.8136 - val_loss: 0.5784 - val_AUC: 0.7623\n",
      "Epoch 19/30\n",
      "569/569 [==============================] - 0s 56us/sample - loss: 0.5277 - AUC: 0.8163 - val_loss: 0.5781 - val_AUC: 0.7571\n",
      "Epoch 20/30\n",
      "569/569 [==============================] - 0s 54us/sample - loss: 0.5209 - AUC: 0.8248 - val_loss: 0.5775 - val_AUC: 0.7664\n",
      "Epoch 21/30\n",
      "569/569 [==============================] - 0s 55us/sample - loss: 0.5136 - AUC: 0.8278 - val_loss: 0.5702 - val_AUC: 0.7632\n",
      "Epoch 22/30\n",
      "569/569 [==============================] - 0s 57us/sample - loss: 0.5091 - AUC: 0.8308 - val_loss: 0.5711 - val_AUC: 0.7641\n",
      "Epoch 23/30\n",
      "569/569 [==============================] - 0s 60us/sample - loss: 0.5071 - AUC: 0.8413 - val_loss: 0.5689 - val_AUC: 0.7682\n",
      "Epoch 24/30\n",
      "569/569 [==============================] - 0s 56us/sample - loss: 0.4992 - AUC: 0.8371 - val_loss: 0.5687 - val_AUC: 0.7688\n",
      "Epoch 25/30\n",
      "569/569 [==============================] - 0s 59us/sample - loss: 0.4938 - AUC: 0.8437 - val_loss: 0.5668 - val_AUC: 0.7696\n",
      "Epoch 26/30\n",
      "569/569 [==============================] - 0s 58us/sample - loss: 0.4917 - AUC: 0.8491 - val_loss: 0.5628 - val_AUC: 0.7657\n",
      "Epoch 27/30\n",
      "569/569 [==============================] - 0s 62us/sample - loss: 0.4843 - AUC: 0.8486 - val_loss: 0.5609 - val_AUC: 0.7688\n",
      "Epoch 28/30\n",
      "569/569 [==============================] - 0s 55us/sample - loss: 0.4806 - AUC: 0.8543 - val_loss: 0.5584 - val_AUC: 0.7686\n",
      "Epoch 29/30\n",
      "569/569 [==============================] - 0s 62us/sample - loss: 0.4776 - AUC: 0.8548 - val_loss: 0.5574 - val_AUC: 0.7715\n",
      "Epoch 30/30\n",
      "569/569 [==============================] - 0s 56us/sample - loss: 0.4746 - AUC: 0.8568 - val_loss: 0.5540 - val_AUC: 0.7795\n"
     ]
    }
   ],
   "source": [
    "#对于二分类问题选择二元交叉熵损失函数\n",
    "model.compile(optimizer = 'adam',loss='binary_crossentropy',metrics=['AUC'])\n",
    "history = model.fit(x_train,y_train,batch_size=64,epochs=30,validation_split=0.2)"
   ]
  },
  {
   "cell_type": "markdown",
   "metadata": {},
   "source": [
    "## 四、评估模型"
   ]
  },
  {
   "cell_type": "code",
   "execution_count": 36,
   "metadata": {},
   "outputs": [],
   "source": [
    "import matplotlib.pyplot as plt\n",
    "\n",
    "def plot_metric(history,metric):\n",
    "    train_metrics = history.history[metric]\n",
    "    val_metrics = history.history['val_'+metric]\n",
    "    epochs = range(1,len(train_metrics)+1)\n",
    "    plt.plot(epochs,train_metrics,'bo--')\n",
    "    plt.plot(epochs,val_metrics,'ro--')\n",
    "    plt.title('Training and validation '+metric)\n",
    "    plt.xlabel(\"Epochs\")\n",
    "    plt.ylabel(metric)\n",
    "    plt.legend([\"train_\"+metric,\"val_\"+metric])\n",
    "    plt.show()"
   ]
  },
  {
   "cell_type": "code",
   "execution_count": 37,
   "metadata": {},
   "outputs": [
    {
     "data": {
      "image/png": "[encoded data removed]",
      "text/plain": [
       "<Figure size 432x288 with 1 Axes>"
      ]
     },
     "metadata": {
      "needs_background": "light"
     },
     "output_type": "display_data"
    }
   ],
   "source": [
    "plot_metric(history,\"loss\")"
   ]
  },
  {
   "cell_type": "code",
   "execution_count": 38,
   "metadata": {},
   "outputs": [
    {
     "data": {
      "image/png": "[encoded data removed]",
      "text/plain": [
       "<Figure size 432x288 with 1 Axes>"
      ]
     },
     "metadata": {
      "needs_background": "light"
     },
     "output_type": "display_data"
    }
   ],
   "source": [
    "plot_metric(history,\"AUC\")"
   ]
  },
  {
   "cell_type": "markdown",
   "metadata": {},
   "source": [
    "#### 我们再看下模型在测试集上的效果"
   ]
  },
  {
   "cell_type": "code",
   "execution_count": 39,
   "metadata": {},
   "outputs": [
    {
     "name": "stdout",
     "output_type": "stream",
     "text": [
      "179/179 [==============================] - 0s 66us/sample - loss: 0.4935 - AUC: 0.8406\n"
     ]
    },
    {
     "data": {
      "text/plain": [
       "[0.49347947446327634, 0.8405857]"
      ]
     },
     "execution_count": 39,
     "metadata": {},
     "output_type": "execute_result"
    }
   ],
   "source": [
    "model.evaluate(x=x_test,y=y_test)"
   ]
  },
  {
   "cell_type": "markdown",
   "metadata": {},
   "source": [
    "# 五、使用模型"
   ]
  },
  {
   "cell_type": "code",
   "execution_count": 40,
   "metadata": {},
   "outputs": [
    {
     "data": {
      "text/plain": [
       "array([[0.31593814],\n",
       "       [0.50485206],\n",
       "       [0.41273287],\n",
       "       [0.7832473 ],\n",
       "       [0.47768936],\n",
       "       [0.55183744],\n",
       "       [0.12631845],\n",
       "       [0.6395751 ],\n",
       "       [0.28999737],\n",
       "       [0.2279673 ]], dtype=float32)"
      ]
     },
     "execution_count": 40,
     "metadata": {},
     "output_type": "execute_result"
    }
   ],
   "source": [
    "model.predict(x_test[0:10])"
   ]
  },
  {
   "cell_type": "code",
   "execution_count": 41,
   "metadata": {},
   "outputs": [
    {
     "data": {
      "text/plain": [
       "array([[0],\n",
       "       [1],\n",
       "       [0],\n",
       "       [1],\n",
       "       [0],\n",
       "       [1],\n",
       "       [0],\n",
       "       [1],\n",
       "       [0],\n",
       "       [0]], dtype=int32)"
      ]
     },
     "execution_count": 41,
     "metadata": {},
     "output_type": "execute_result"
    }
   ],
   "source": [
    "model.predict_classes(x_test[0:10])"
   ]
  },
  {
   "cell_type": "markdown",
   "metadata": {},
   "source": [
    "# 六、保存模型\n",
    "可以使用Keras方式保存模型，也可以使用Tensorflow原生方式保存。前者仅仅适用使用Python环境恢复模型，后者则可以跨平台进行模型部署。\n",
    "推荐使用后一种方式进行保存"
   ]
  },
  {
   "cell_type": "code",
   "execution_count": 42,
   "metadata": {},
   "outputs": [
    {
     "name": "stdout",
     "output_type": "stream",
     "text": [
      "179/179 [==============================] - 0s 1ms/sample - loss: 0.4935 - AUC: 0.8406\n"
     ]
    },
    {
     "data": {
      "text/plain": [
       "[0.49347947446327634, 0.8405857]"
      ]
     },
     "execution_count": 42,
     "metadata": {},
     "output_type": "execute_result"
    }
   ],
   "source": [
    "#1.Keras方式保存\n",
    "model.save(\"./data/keras_model.h5\")\n",
    "del model\n",
    "\n",
    "model = models.load_model(\"./data/keras_model.h5\")\n",
    "model.evaluate(x_test,y_test)"
   ]
  },
  {
   "cell_type": "code",
   "execution_count": 44,
   "metadata": {},
   "outputs": [],
   "source": [
    "#保存模型结构\n",
    "json_str = model.to_json()\n",
    "#恢复模型结构\n",
    "model_json = models.model_from_json(json_str)"
   ]
  },
  {
   "cell_type": "code",
   "execution_count": 47,
   "metadata": {},
   "outputs": [
    {
     "name": "stdout",
     "output_type": "stream",
     "text": [
      "179/179 [==============================] - 0s 1ms/sample - loss: 0.4935 - AUC: 0.8406\n"
     ]
    },
    {
     "data": {
      "text/plain": [
       "[0.49347947446327634, 0.8405857]"
      ]
     },
     "execution_count": 47,
     "metadata": {},
     "output_type": "execute_result"
    }
   ],
   "source": [
    "#保存模型权重\n",
    "model.save_weights(\"./data/keras_model_weight.h5\")\n",
    "#恢复模型结构\n",
    "model_json = models.model_from_json(json_str)\n",
    "model_json.compile(optimizer='adam',loss='binary_crossentropy',metrics=['AUC'])\n",
    "model_json.load_weights('./data/keras_model_weight.h5')\n",
    "model_json.evaluate(x_test,y_test)"
   ]
  },
  {
   "cell_type": "markdown",
   "metadata": {},
   "source": [
    "### 2、Tensorflow原生方式保存"
   ]
  },
  {
   "cell_type": "code",
   "execution_count": 49,
   "metadata": {},
   "outputs": [],
   "source": [
    "model.save_weights('./data/tf_model_weights.ckpt',save_format=\"tf\")"
   ]
  },
  {
   "cell_type": "code",
   "execution_count": 51,
   "metadata": {},
   "outputs": [
    {
     "name": "stdout",
     "output_type": "stream",
     "text": [
      "INFO:tensorflow:Assets written to: ./data/tf_model_savedmodel/assets\n",
      "export saved model\n",
      "179/179 [==============================] - 0s 1ms/sample - loss: 0.4935 - AUC: 0.8406\n"
     ]
    },
    {
     "data": {
      "text/plain": [
       "[0.4934792701758486, 0.8405857]"
      ]
     },
     "execution_count": 51,
     "metadata": {},
     "output_type": "execute_result"
    }
   ],
   "source": [
    "model.save(\"./data/tf_model_savedmodel\",save_format=\"tf\")\n",
    "print(\"export saved model\")\n",
    "\n",
    "model_loaded = tf.keras.models.load_model(\"./data/tf_model_savedmodel/\")\n",
    "model_loaded.evaluate(x_test,y_test)"
   ]
  },
  {
   "cell_type": "code",
   "execution_count": null,
   "metadata": {},
   "outputs": [],
   "source": []
  }
 ],
 "metadata": {
  "kernelspec": {
   "display_name": "tf2",
   "language": "python",
   "name": "tf2"
  },
  "language_info": {
   "codemirror_mode": {
    "name": "ipython",
    "version": 3
   },
   "file_extension": ".py",
   "mimetype": "text/x-python",
   "name": "python",
   "nbconvert_exporter": "python",
   "pygments_lexer": "ipython3",
   "version": "3.6.10"
  }
 },
 "nbformat": 4,
 "nbformat_minor": 2
}
